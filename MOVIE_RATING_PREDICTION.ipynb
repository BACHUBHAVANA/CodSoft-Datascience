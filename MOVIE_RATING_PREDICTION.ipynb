{
  "nbformat": 4,
  "nbformat_minor": 0,
  "metadata": {
    "colab": {
      "provenance": [],
      "authorship_tag": "ABX9TyNfTAXI48eDPLZOL3O0fL0e",
      "include_colab_link": true
    },
    "kernelspec": {
      "name": "python3",
      "display_name": "Python 3"
    },
    "language_info": {
      "name": "python"
    }
  },
  "cells": [
    {
      "cell_type": "markdown",
      "metadata": {
        "id": "view-in-github",
        "colab_type": "text"
      },
      "source": [
        "<a href=\"https://colab.research.google.com/github/BACHUBHAVANA/CodSoft-Datascience/blob/main/MOVIE_RATING_PREDICTION.ipynb\" target=\"_parent\"><img src=\"https://colab.research.google.com/assets/colab-badge.svg\" alt=\"Open In Colab\"/></a>"
      ]
    },
    {
      "cell_type": "code",
      "source": [
        "import pandas as pd\n",
        "import numpy as np\n",
        "from sklearn.model_selection import train_test_split\n",
        "from sklearn.preprocessing import LabelEncoder, StandardScaler\n",
        "from sklearn.linear_model import LinearRegression\n",
        "from sklearn.metrics import mean_squared_error, r2_score\n",
        "import matplotlib.pyplot as plt\n",
        "import seaborn as sns\n",
        "import joblib\n",
        "\n",
        "# Load the dataset\n",
        "df = pd.read_csv('/content/IMDb Movies India.csv', encoding='ISO-8859-1')\n",
        "\n",
        "# Drop rows with missing values in crucial columns\n",
        "df.dropna(subset=['Rating', 'Genre', 'Director', 'Actor 1'], inplace=True)\n",
        "\n",
        "# Handle non-numeric data\n",
        "# Convert 'Votes' to numeric\n",
        "df['Votes'] = pd.to_numeric(df['Votes'], errors='coerce')\n",
        "df.dropna(subset=['Votes'], inplace=True)  # Drop rows where 'Votes' is NaN\n",
        "\n",
        "# Encoding categorical features\n",
        "label_encoder_genre = LabelEncoder()\n",
        "df['Genre'] = label_encoder_genre.fit_transform(df['Genre'])\n",
        "label_encoder_director = LabelEncoder()\n",
        "df['Director'] = label_encoder_director.fit_transform(df['Director'])\n",
        "label_encoder_actor1 = LabelEncoder()\n",
        "df['Actor 1'] = label_encoder_actor1.fit_transform(df['Actor 1'])\n",
        "label_encoder_actor2 = LabelEncoder()\n",
        "df['Actor 2'] = label_encoder_actor2.fit_transform(df['Actor 2'])\n",
        "label_encoder_actor3 = LabelEncoder()\n",
        "df['Actor 3'] = label_encoder_actor3.fit_transform(df['Actor 3'])\n",
        "\n",
        "# Create feature and target variables\n",
        "X = df[['Genre', 'Director', 'Actor 1', 'Actor 2', 'Actor 3', 'Votes']]\n",
        "y = df['Rating']\n",
        "\n",
        "# Split the data into training and testing sets\n",
        "X_train, X_test, y_train, y_test = train_test_split(X, y, test_size=0.2, random_state=42)\n",
        "\n",
        "# Standardize the feature variables\n",
        "scaler = StandardScaler()\n",
        "X_train_scaled = scaler.fit_transform(X_train)\n",
        "X_test_scaled = scaler.transform(X_test)\n",
        "\n",
        "# Create and train the model\n",
        "model = LinearRegression()\n",
        "model.fit(X_train_scaled, y_train)\n",
        "\n",
        "# Make predictions\n",
        "y_pred = model.predict(X_test_scaled)\n",
        "\n",
        "# Evaluate the model\n",
        "print(f'Mean Squared Error: {mean_squared_error(y_test, y_pred)}')\n",
        "print(f'R-squared: {r2_score(y_test, y_pred)}')\n",
        "\n",
        "# Plot feature importance\n",
        "feature_importance = pd.Series(model.coef_, index=X.columns)\n",
        "feature_importance.plot(kind='barh')\n",
        "plt.show()\n",
        "\n",
        "# Example of making a prediction\n",
        "# Replace with actual values\n",
        "new_movie = pd.DataFrame({\n",
        "    'Genre': [label_encoder_genre.transform(['Drama'])[0]],  # Example encoding\n",
        "    'Director': [label_encoder_director.transform(['Gaurav Bakshi'])[0]],\n",
        "    'Actor 1': [label_encoder_actor1.transform(['Rasika Dugal'])[0]],\n",
        "    'Actor 2': [label_encoder_actor2.transform(['Vivek Ghamande'])[0]],\n",
        "    'Actor 3': [label_encoder_actor3.transform(['Arvind Jangid'])[0]],\n",
        "    'Votes': [10]  # Example votes\n",
        "})\n",
        "new_movie_scaled = scaler.transform(new_movie)\n",
        "predicted_rating = model.predict(new_movie_scaled)\n",
        "print(predicted_rating)\n",
        "\n",
        "# Save the model\n",
        "joblib.dump(model, 'movie_rating_model.pkl')\n"
      ],
      "metadata": {
        "colab": {
          "base_uri": "https://localhost:8080/",
          "height": 499
        },
        "id": "OK3N1gl6Dx63",
        "outputId": "358e72b2-951e-4266-a096-58796ce1d5dd"
      },
      "execution_count": null,
      "outputs": [
        {
          "output_type": "stream",
          "name": "stdout",
          "text": [
            "Mean Squared Error: 1.8406582329860695\n",
            "R-squared: 0.02442829471880359\n"
          ]
        },
        {
          "output_type": "display_data",
          "data": {
            "text/plain": [
              "<Figure size 640x480 with 1 Axes>"
            ],
            "image/png": "[encoded data removed]"
          },
          "metadata": {}
        },
        {
          "output_type": "stream",
          "name": "stdout",
          "text": [
            "[5.89472421]\n"
          ]
        },
        {
          "output_type": "execute_result",
          "data": {
            "text/plain": [
              "['movie_rating_model.pkl']"
            ]
          },
          "metadata": {},
          "execution_count": 18
        }
      ]
    },
    {
      "cell_type": "code",
      "source": [],
      "metadata": {
        "id": "IDe8RsgyBspv"
      },
      "execution_count": null,
      "outputs": []
    }
  ]
}